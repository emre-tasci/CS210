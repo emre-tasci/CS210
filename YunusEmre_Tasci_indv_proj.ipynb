{
 "cells": [
  {
   "cell_type": "markdown",
   "metadata": {},
   "source": [
    "# Yunus Emre Taşcı / ID:25467"
   ]
  },
  {
   "cell_type": "markdown",
   "metadata": {},
   "source": [
    "# Data Analysis prepared for CS210 course Spring 2018-2019"
   ]
  },
  {
   "cell_type": "markdown",
   "metadata": {},
   "source": [
    "-------------------------------------------------"
   ]
  },
  {
   "cell_type": "code",
   "execution_count": 60,
   "metadata": {},
   "outputs": [],
   "source": [
    "#Importing necessary libraries\n",
    "import pandas as pd\n",
    "import numpy as np\n",
    "import matplotlib.pyplot as plt\n",
    "from scipy import stats\n",
    "from datetime import datetime\n",
    "import seaborn as sns  \n",
    "from datetime import datetime\n",
    "\n",
    "import warnings\n",
    "warnings.filterwarnings('ignore')\n",
    "\n",
    "sns.set(style=\"darkgrid\")\n",
    "\n",
    "%matplotlib inline\n",
    "from os.path import join\n",
    "from pprint import pprint"
   ]
  },
  {
   "cell_type": "markdown",
   "metadata": {},
   "source": [
    "Reading csv file"
   ]
  },
  {
   "cell_type": "code",
   "execution_count": 61,
   "metadata": {},
   "outputs": [],
   "source": [
    "d_path = \"\"\n",
    "filename = \"taxi-trips.csv\"\n",
    "df = pd.read_csv(join(d_path, filename))\n"
   ]
  },
  {
   "cell_type": "markdown",
   "metadata": {},
   "source": [
    "Printing the first five rows to check data "
   ]
  },
  {
   "cell_type": "code",
   "execution_count": 62,
   "metadata": {
    "scrolled": true
   },
   "outputs": [
    {
     "data": {
      "text/html": [
       "<div>\n",
       "<style scoped>\n",
       "    .dataframe tbody tr th:only-of-type {\n",
       "        vertical-align: middle;\n",
       "    }\n",
       "\n",
       "    .dataframe tbody tr th {\n",
       "        vertical-align: top;\n",
       "    }\n",
       "\n",
       "    .dataframe thead th {\n",
       "        text-align: right;\n",
       "    }\n",
       "</style>\n",
       "<table border=\"1\" class=\"dataframe\">\n",
       "  <thead>\n",
       "    <tr style=\"text-align: right;\">\n",
       "      <th></th>\n",
       "      <th>id</th>\n",
       "      <th>vendor_id</th>\n",
       "      <th>pickup_datetime</th>\n",
       "      <th>dropoff_datetime</th>\n",
       "      <th>passenger_count</th>\n",
       "      <th>pickup_longitude</th>\n",
       "      <th>pickup_latitude</th>\n",
       "      <th>dropoff_longitude</th>\n",
       "      <th>dropoff_latitude</th>\n",
       "      <th>store_and_fwd_flag</th>\n",
       "      <th>trip_duration</th>\n",
       "    </tr>\n",
       "  </thead>\n",
       "  <tbody>\n",
       "    <tr>\n",
       "      <th>0</th>\n",
       "      <td>id2875421</td>\n",
       "      <td>2</td>\n",
       "      <td>2016-03-14 17:24:55</td>\n",
       "      <td>2016-03-14 17:32:30</td>\n",
       "      <td>1</td>\n",
       "      <td>-73.982155</td>\n",
       "      <td>40.767937</td>\n",
       "      <td>-73.964630</td>\n",
       "      <td>40.765602</td>\n",
       "      <td>N</td>\n",
       "      <td>455</td>\n",
       "    </tr>\n",
       "    <tr>\n",
       "      <th>1</th>\n",
       "      <td>id0012891</td>\n",
       "      <td>2</td>\n",
       "      <td>2016-03-10 21:45:01</td>\n",
       "      <td>2016-03-10 22:05:26</td>\n",
       "      <td>1</td>\n",
       "      <td>-73.981049</td>\n",
       "      <td>40.744339</td>\n",
       "      <td>-73.973000</td>\n",
       "      <td>40.789989</td>\n",
       "      <td>N</td>\n",
       "      <td>1225</td>\n",
       "    </tr>\n",
       "    <tr>\n",
       "      <th>2</th>\n",
       "      <td>id3361153</td>\n",
       "      <td>1</td>\n",
       "      <td>2016-03-11 07:11:23</td>\n",
       "      <td>2016-03-11 07:20:09</td>\n",
       "      <td>1</td>\n",
       "      <td>-73.994560</td>\n",
       "      <td>40.750526</td>\n",
       "      <td>-73.978500</td>\n",
       "      <td>40.756191</td>\n",
       "      <td>N</td>\n",
       "      <td>526</td>\n",
       "    </tr>\n",
       "    <tr>\n",
       "      <th>3</th>\n",
       "      <td>id2129090</td>\n",
       "      <td>1</td>\n",
       "      <td>2016-03-14 14:05:39</td>\n",
       "      <td>2016-03-14 14:28:05</td>\n",
       "      <td>1</td>\n",
       "      <td>-73.975090</td>\n",
       "      <td>40.758766</td>\n",
       "      <td>-73.953201</td>\n",
       "      <td>40.765068</td>\n",
       "      <td>N</td>\n",
       "      <td>1346</td>\n",
       "    </tr>\n",
       "    <tr>\n",
       "      <th>4</th>\n",
       "      <td>id0256505</td>\n",
       "      <td>1</td>\n",
       "      <td>2016-03-14 15:04:38</td>\n",
       "      <td>2016-03-14 15:16:13</td>\n",
       "      <td>1</td>\n",
       "      <td>-73.994484</td>\n",
       "      <td>40.745087</td>\n",
       "      <td>-73.998993</td>\n",
       "      <td>40.722710</td>\n",
       "      <td>N</td>\n",
       "      <td>695</td>\n",
       "    </tr>\n",
       "  </tbody>\n",
       "</table>\n",
       "</div>"
      ],
      "text/plain": [
       "          id  vendor_id      pickup_datetime     dropoff_datetime  \\\n",
       "0  id2875421          2  2016-03-14 17:24:55  2016-03-14 17:32:30   \n",
       "1  id0012891          2  2016-03-10 21:45:01  2016-03-10 22:05:26   \n",
       "2  id3361153          1  2016-03-11 07:11:23  2016-03-11 07:20:09   \n",
       "3  id2129090          1  2016-03-14 14:05:39  2016-03-14 14:28:05   \n",
       "4  id0256505          1  2016-03-14 15:04:38  2016-03-14 15:16:13   \n",
       "\n",
       "   passenger_count  pickup_longitude  pickup_latitude  dropoff_longitude  \\\n",
       "0                1        -73.982155        40.767937         -73.964630   \n",
       "1                1        -73.981049        40.744339         -73.973000   \n",
       "2                1        -73.994560        40.750526         -73.978500   \n",
       "3                1        -73.975090        40.758766         -73.953201   \n",
       "4                1        -73.994484        40.745087         -73.998993   \n",
       "\n",
       "   dropoff_latitude store_and_fwd_flag  trip_duration  \n",
       "0         40.765602                  N            455  \n",
       "1         40.789989                  N           1225  \n",
       "2         40.756191                  N            526  \n",
       "3         40.765068                  N           1346  \n",
       "4         40.722710                  N            695  "
      ]
     },
     "execution_count": 62,
     "metadata": {},
     "output_type": "execute_result"
    }
   ],
   "source": [
    "df.head()"
   ]
  },
  {
   "cell_type": "markdown",
   "metadata": {},
   "source": [
    "The data read from csv file provides us informations about taxi trips in New York in a particular two weeks.\n"
   ]
  },
  {
   "cell_type": "markdown",
   "metadata": {},
   "source": [
    "Exploring the data types so we can do the propriate operations later"
   ]
  },
  {
   "cell_type": "code",
   "execution_count": 63,
   "metadata": {},
   "outputs": [
    {
     "data": {
      "text/plain": [
       "id                     object\n",
       "vendor_id               int64\n",
       "pickup_datetime        object\n",
       "dropoff_datetime       object\n",
       "passenger_count         int64\n",
       "pickup_longitude      float64\n",
       "pickup_latitude       float64\n",
       "dropoff_longitude     float64\n",
       "dropoff_latitude      float64\n",
       "store_and_fwd_flag     object\n",
       "trip_duration           int64\n",
       "dtype: object"
      ]
     },
     "execution_count": 63,
     "metadata": {},
     "output_type": "execute_result"
    }
   ],
   "source": [
    "df.dtypes"
   ]
  },
  {
   "cell_type": "markdown",
   "metadata": {},
   "source": [
    "To able to see general statistics among the data "
   ]
  },
  {
   "cell_type": "code",
   "execution_count": 64,
   "metadata": {},
   "outputs": [
    {
     "data": {
      "text/html": [
       "<div>\n",
       "<style scoped>\n",
       "    .dataframe tbody tr th:only-of-type {\n",
       "        vertical-align: middle;\n",
       "    }\n",
       "\n",
       "    .dataframe tbody tr th {\n",
       "        vertical-align: top;\n",
       "    }\n",
       "\n",
       "    .dataframe thead th {\n",
       "        text-align: right;\n",
       "    }\n",
       "</style>\n",
       "<table border=\"1\" class=\"dataframe\">\n",
       "  <thead>\n",
       "    <tr style=\"text-align: right;\">\n",
       "      <th></th>\n",
       "      <th>vendor_id</th>\n",
       "      <th>passenger_count</th>\n",
       "      <th>pickup_longitude</th>\n",
       "      <th>pickup_latitude</th>\n",
       "      <th>dropoff_longitude</th>\n",
       "      <th>dropoff_latitude</th>\n",
       "      <th>trip_duration</th>\n",
       "    </tr>\n",
       "  </thead>\n",
       "  <tbody>\n",
       "    <tr>\n",
       "      <th>count</th>\n",
       "      <td>118185.000000</td>\n",
       "      <td>118185.000000</td>\n",
       "      <td>118185.000000</td>\n",
       "      <td>118185.000000</td>\n",
       "      <td>118185.000000</td>\n",
       "      <td>118185.000000</td>\n",
       "      <td>118185.000000</td>\n",
       "    </tr>\n",
       "    <tr>\n",
       "      <th>mean</th>\n",
       "      <td>1.534958</td>\n",
       "      <td>1.657148</td>\n",
       "      <td>-73.973971</td>\n",
       "      <td>40.751392</td>\n",
       "      <td>-73.973538</td>\n",
       "      <td>40.752212</td>\n",
       "      <td>927.186310</td>\n",
       "    </tr>\n",
       "    <tr>\n",
       "      <th>std</th>\n",
       "      <td>0.498779</td>\n",
       "      <td>1.313844</td>\n",
       "      <td>0.040456</td>\n",
       "      <td>0.027958</td>\n",
       "      <td>0.039192</td>\n",
       "      <td>0.032284</td>\n",
       "      <td>3118.710246</td>\n",
       "    </tr>\n",
       "    <tr>\n",
       "      <th>min</th>\n",
       "      <td>1.000000</td>\n",
       "      <td>0.000000</td>\n",
       "      <td>-79.487900</td>\n",
       "      <td>40.225803</td>\n",
       "      <td>-79.487900</td>\n",
       "      <td>40.225800</td>\n",
       "      <td>1.000000</td>\n",
       "    </tr>\n",
       "    <tr>\n",
       "      <th>25%</th>\n",
       "      <td>1.000000</td>\n",
       "      <td>1.000000</td>\n",
       "      <td>-73.991875</td>\n",
       "      <td>40.737835</td>\n",
       "      <td>-73.991394</td>\n",
       "      <td>40.736462</td>\n",
       "      <td>393.000000</td>\n",
       "    </tr>\n",
       "    <tr>\n",
       "      <th>50%</th>\n",
       "      <td>2.000000</td>\n",
       "      <td>1.000000</td>\n",
       "      <td>-73.981796</td>\n",
       "      <td>40.754501</td>\n",
       "      <td>-73.979759</td>\n",
       "      <td>40.754848</td>\n",
       "      <td>652.000000</td>\n",
       "    </tr>\n",
       "    <tr>\n",
       "      <th>75%</th>\n",
       "      <td>2.000000</td>\n",
       "      <td>2.000000</td>\n",
       "      <td>-73.967575</td>\n",
       "      <td>40.768471</td>\n",
       "      <td>-73.962990</td>\n",
       "      <td>40.770077</td>\n",
       "      <td>1048.000000</td>\n",
       "    </tr>\n",
       "    <tr>\n",
       "      <th>max</th>\n",
       "      <td>2.000000</td>\n",
       "      <td>6.000000</td>\n",
       "      <td>-73.425018</td>\n",
       "      <td>41.292198</td>\n",
       "      <td>-73.055977</td>\n",
       "      <td>41.292198</td>\n",
       "      <td>86366.000000</td>\n",
       "    </tr>\n",
       "  </tbody>\n",
       "</table>\n",
       "</div>"
      ],
      "text/plain": [
       "           vendor_id  passenger_count  pickup_longitude  pickup_latitude  \\\n",
       "count  118185.000000    118185.000000     118185.000000    118185.000000   \n",
       "mean        1.534958         1.657148        -73.973971        40.751392   \n",
       "std         0.498779         1.313844          0.040456         0.027958   \n",
       "min         1.000000         0.000000        -79.487900        40.225803   \n",
       "25%         1.000000         1.000000        -73.991875        40.737835   \n",
       "50%         2.000000         1.000000        -73.981796        40.754501   \n",
       "75%         2.000000         2.000000        -73.967575        40.768471   \n",
       "max         2.000000         6.000000        -73.425018        41.292198   \n",
       "\n",
       "       dropoff_longitude  dropoff_latitude  trip_duration  \n",
       "count      118185.000000     118185.000000  118185.000000  \n",
       "mean          -73.973538         40.752212     927.186310  \n",
       "std             0.039192          0.032284    3118.710246  \n",
       "min           -79.487900         40.225800       1.000000  \n",
       "25%           -73.991394         40.736462     393.000000  \n",
       "50%           -73.979759         40.754848     652.000000  \n",
       "75%           -73.962990         40.770077    1048.000000  \n",
       "max           -73.055977         41.292198   86366.000000  "
      ]
     },
     "execution_count": 64,
     "metadata": {},
     "output_type": "execute_result"
    }
   ],
   "source": [
    "df.describe()"
   ]
  },
  {
   "cell_type": "markdown",
   "metadata": {},
   "source": [
    "Importing reverse geocoder to get place information from given latitudes and longtitudes."
   ]
  },
  {
   "cell_type": "code",
   "execution_count": 65,
   "metadata": {},
   "outputs": [],
   "source": [
    "import reverse_geocoder as rg \n"
   ]
  },
  {
   "cell_type": "code",
   "execution_count": 66,
   "metadata": {},
   "outputs": [
    {
     "data": {
      "text/plain": [
       "0           Manhattan\n",
       "1    Long Island City\n",
       "2           Weehawken\n",
       "3           Manhattan\n",
       "4       New York City\n",
       "Name: pickup_district, dtype: object"
      ]
     },
     "execution_count": 66,
     "metadata": {},
     "output_type": "execute_result"
    }
   ],
   "source": [
    "df_c=df.copy()#taking the of the data to preserve original content, i will be dealing with the copy throughout the project\n",
    "ycor=df_c[\"pickup_longitude\"]#collecting pick up coordinates\n",
    "xcor=df_c[\"pickup_latitude\"]\n",
    "cordlist=list(zip(xcor,ycor))# zipping the coordinates to able to pass variables to the same row\n",
    "result= rg.search(cordlist)#using reverse geocoder's function\n",
    "myarray=[]\n",
    "for i in result:\n",
    "    name=i.get('name')#extracting name \n",
    "    myarray.append(name)\n",
    "df_c[\"pickup_district\"]=myarray#creating column\n",
    "df_c[\"pickup_district\"].head()\n"
   ]
  },
  {
   "cell_type": "markdown",
   "metadata": {},
   "source": [
    "Same operations as above for dropoff points"
   ]
  },
  {
   "cell_type": "code",
   "execution_count": 67,
   "metadata": {},
   "outputs": [
    {
     "data": {
      "text/plain": [
       "0           Manhattan\n",
       "1           Manhattan\n",
       "2           Manhattan\n",
       "3    Long Island City\n",
       "4       New York City\n",
       "Name: dropoff_district, dtype: object"
      ]
     },
     "execution_count": 67,
     "metadata": {},
     "output_type": "execute_result"
    }
   ],
   "source": [
    "\n",
    "ycor1=df_c[\"dropoff_longitude\"]\n",
    "xcor1=df_c[\"dropoff_latitude\"]\n",
    "cordlist1=list(zip(xcor1,ycor1))\n",
    "result= rg.search(cordlist1)\n",
    "myarray1=[]\n",
    "for i in result:\n",
    "    name1=i.get('name')\n",
    "    myarray1.append(name1)\n",
    "df_c[\"dropoff_district\"]=myarray1\n",
    "df_c[\"dropoff_district\"].head()"
   ]
  },
  {
   "cell_type": "markdown",
   "metadata": {},
   "source": [
    "From the explored data above extracted the most used top five districts by picking up district"
   ]
  },
  {
   "cell_type": "code",
   "execution_count": 68,
   "metadata": {
    "scrolled": false
   },
   "outputs": [
    {
     "name": "stdout",
     "output_type": "stream",
     "text": [
      "pickup_district\n",
      "Manhattan           45329\n",
      "New York City       34625\n",
      "Long Island City    17787\n",
      "Weehawken           11334\n",
      "The Bronx            2777\n",
      "Name: pickup_district, dtype: int64\n"
     ]
    },
    {
     "data": {
      "text/plain": [
       "Text(0.5, 0, 'Pick-Up District')"
      ]
     },
     "execution_count": 68,
     "metadata": {},
     "output_type": "execute_result"
    },
    {
     "data": {
      "image/png": "[encoded data removed]",
      "text/plain": [
       "<Figure size 432x288 with 1 Axes>"
      ]
     },
     "metadata": {
      "needs_background": "light"
     },
     "output_type": "display_data"
    }
   ],
   "source": [
    "top5pick = df_c.groupby(by=\"pickup_district\")['pickup_district'].count().sort_values(ascending=False)[:5]\n",
    "\n",
    "print(top5pick)\n",
    "chart1=top5pick.plot(kind=\"bar\")\n",
    "chart1.set_ylabel('Pick-Up Count')\n",
    "chart1.set_xlabel('Pick-Up District')"
   ]
  },
  {
   "cell_type": "markdown",
   "metadata": {},
   "source": [
    "Same as above but this time listed top 5 by dropping off districts."
   ]
  },
  {
   "cell_type": "code",
   "execution_count": 69,
   "metadata": {},
   "outputs": [
    {
     "name": "stdout",
     "output_type": "stream",
     "text": [
      "dropoff_district\n",
      "Manhattan           44478\n",
      "New York City       31082\n",
      "Long Island City    19919\n",
      "Weehawken           10621\n",
      "Brooklyn             2059\n",
      "Name: dropoff_district, dtype: int64\n"
     ]
    },
    {
     "data": {
      "text/plain": [
       "Text(0.5, 0, 'Drop-Off District')"
      ]
     },
     "execution_count": 69,
     "metadata": {},
     "output_type": "execute_result"
    },
    {
     "data": {
      "image/png": "[encoded data removed]",
      "text/plain": [
       "<Figure size 432x288 with 1 Axes>"
      ]
     },
     "metadata": {
      "needs_background": "light"
     },
     "output_type": "display_data"
    }
   ],
   "source": [
    "top5drop = df_c.groupby(by=\"dropoff_district\")['dropoff_district'].count().sort_values(ascending=False)[:5]\n",
    "print(top5drop)\n",
    "\n",
    "chart2=top5drop.plot(kind=\"bar\")\n",
    "chart2.set_ylabel('Drop-Off Count')\n",
    "chart2.set_xlabel('Drop-Off District')"
   ]
  },
  {
   "cell_type": "markdown",
   "metadata": {},
   "source": [
    "To be able calcute the distance between dropoff point and pickup point, geopy is imported."
   ]
  },
  {
   "cell_type": "code",
   "execution_count": 70,
   "metadata": {},
   "outputs": [
    {
     "data": {
      "text/plain": [
       "0    1.502172\n",
       "1    5.114807\n",
       "2    1.495018\n",
       "3    1.976279\n",
       "4    2.513961\n",
       "Name: distance, dtype: float64"
      ]
     },
     "execution_count": 70,
     "metadata": {},
     "output_type": "execute_result"
    }
   ],
   "source": [
    "from geopy.distance import geodesic\n",
    "distance=[]\n",
    "for j in range (len(df_c[\"dropoff_district\"])):#it is dropoff dist to get the lenght of the column it could be any other column name\n",
    "    dist=geodesic(cordlist[j], cordlist1[j]).km\n",
    "    distance.append(dist)#adding the result to distance array\n",
    "df_c[\"distance\"]=distance#describing distance array as column, to be used later\n",
    "df_c[\"distance\"].head()"
   ]
  },
  {
   "cell_type": "markdown",
   "metadata": {},
   "source": [
    "EXTRACTING HOURS OF THE DAY CATEGORIZING THEM TO THE TIME INTERVAL THEY BELONG"
   ]
  },
  {
   "cell_type": "code",
   "execution_count": 71,
   "metadata": {},
   "outputs": [
    {
     "name": "stdout",
     "output_type": "stream",
     "text": [
      "<class 'pandas.core.series.Series'>\n"
     ]
    },
    {
     "data": {
      "text/plain": [
       "0    rush hour evening\n",
       "1              evening\n",
       "2           late night\n",
       "3            afternoon\n",
       "4            afternoon\n",
       "Name: time_of_day, dtype: object"
      ]
     },
     "execution_count": 71,
     "metadata": {},
     "output_type": "execute_result"
    }
   ],
   "source": [
    "\n",
    "dateserie= df_c[\"pickup_datetime\"]\n",
    "print(type(df_c[\"pickup_datetime\"]))\n",
    "hourarray=[]\n",
    "hourtag=[]\n",
    "for j in range (len(df_c[\"pickup_datetime\"])):# to get the hours from the pickup column is i search for the index of hours\n",
    "    onlyhour = dateserie[j]\n",
    "    hour=int(onlyhour[10:13])#in \"pickup_datetime\" column hours of the dates are in indexes btw 10-13 so get them as integers\n",
    "    hourarray.append(hour)\n",
    "    tag=\"\"\n",
    "    if 9>=hourarray[j]>7:#categorizing hours\n",
    "            tag = \"rush hour morning\"\n",
    "    elif 16>=hourarray[j]>9:\n",
    "            tag = \"afternoon\"\n",
    "    elif 18>=hourarray[j]>16:\n",
    "            tag = \"rush hour evening\"\n",
    "    elif 23>=hourarray[j]>18:\n",
    "            tag = \"evening\"\n",
    "    else:\n",
    "        tag=\"late night\"\n",
    "    hourtag.append(tag)\n",
    "    \n",
    "df_c[\"hour\"]=hourarray\n",
    "df_c[\"time_of_day\"]=hourtag#adding categorizes to new column\n",
    "df_c[\"time_of_day\"].head()#to check\n"
   ]
  },
  {
   "cell_type": "markdown",
   "metadata": {},
   "source": [
    "Printing and comparing the average distances by the time of the day"
   ]
  },
  {
   "cell_type": "code",
   "execution_count": 72,
   "metadata": {},
   "outputs": [
    {
     "name": "stdout",
     "output_type": "stream",
     "text": [
      "Index(['time_of_day', 'distance'], dtype='object')\n"
     ]
    },
    {
     "data": {
      "text/plain": [
       "Text(0, 0.5, 'Average Distance in Km')"
      ]
     },
     "execution_count": 72,
     "metadata": {},
     "output_type": "execute_result"
    },
    {
     "data": {
      "image/png": "[encoded data removed]",
      "text/plain": [
       "<Figure size 648x360 with 1 Axes>"
      ]
     },
     "metadata": {
      "needs_background": "light"
     },
     "output_type": "display_data"
    }
   ],
   "source": [
    "hourtaggroup=df_c.groupby(\"time_of_day\")#grouping the same tags as one\n",
    "\n",
    "mean=hourtaggroup.mean()[\"distance\"]#taking average distance for each time of the day\n",
    "\n",
    "meandf = mean.to_frame().reset_index()#transforming the serie to a dataframe \n",
    "print(meandf.columns)\n",
    "\n",
    "\n",
    "axs = plt.subplots(1, 1, figsize=(9,5), sharey=True,)\n",
    "\n",
    "axs[1].bar(meandf[\"time_of_day\"], meandf[\"distance\"])\n",
    "plt.xlabel(\"Time of Day\")\n",
    "plt.ylabel(\"Average Distance in Km\")"
   ]
  },
  {
   "cell_type": "markdown",
   "metadata": {},
   "source": [
    "From this graph is can be deducted that trips done in late nights has longer distances compared to other times of the day. "
   ]
  },
  {
   "cell_type": "markdown",
   "metadata": {},
   "source": [
    "Exploring the data by how long does the ride goes according time of the day "
   ]
  },
  {
   "cell_type": "code",
   "execution_count": 73,
   "metadata": {
    "scrolled": true
   },
   "outputs": [
    {
     "name": "stdout",
     "output_type": "stream",
     "text": [
      "time_of_day\n",
      "afternoon            978.032887\n",
      "evening              886.287120\n",
      "late night           846.288715\n",
      "rush hour evening    963.484210\n",
      "rush hour morning    973.641451\n",
      "Name: trip_duration, dtype: float64\n"
     ]
    },
    {
     "data": {
      "text/plain": [
       "Text(0.5, 0, 'Average duration in seconds')"
      ]
     },
     "execution_count": 73,
     "metadata": {},
     "output_type": "execute_result"
    },
    {
     "data": {
      "image/png": "[encoded data removed]",
      "text/plain": [
       "<Figure size 432x288 with 1 Axes>"
      ]
     },
     "metadata": {
      "needs_background": "light"
     },
     "output_type": "display_data"
    }
   ],
   "source": [
    "groupedtime = df_c.groupby(\"time_of_day\")#grouping the dataframe by the time of day\n",
    "avgdur = groupedtime[\"trip_duration\"].mean()#taking average trip durations for each time of the day\n",
    "\n",
    "chart4=avgdur.plot(kind=\"barh\")\n",
    "print(avgdur)\n",
    "chart4.set_ylabel('Time of the Day')\n",
    "chart4.set_xlabel('Average duration in seconds')"
   ]
  },
  {
   "cell_type": "markdown",
   "metadata": {},
   "source": [
    "This graph shows us that trip durations in rush hours are relatively longer than other times of the day especially late nights and evenings."
   ]
  },
  {
   "cell_type": "markdown",
   "metadata": {},
   "source": [
    "***************************************************"
   ]
  },
  {
   "cell_type": "markdown",
   "metadata": {},
   "source": [
    "\n",
    "# HYPOTHESIS TESTING"
   ]
  },
  {
   "cell_type": "markdown",
   "metadata": {},
   "source": [
    "# Null Hypothesis: Passenger group size has no effect on the distance"
   ]
  },
  {
   "cell_type": "markdown",
   "metadata": {},
   "source": [
    "*********************************************************"
   ]
  },
  {
   "cell_type": "markdown",
   "metadata": {},
   "source": [
    "Since our hypothesis claims that there is no correlation between passanger group size i checked average distance every passenger group size traveled than i split them as passenger group size 1 and passenger group size more then one."
   ]
  },
  {
   "cell_type": "code",
   "execution_count": 74,
   "metadata": {},
   "outputs": [],
   "source": [
    "def isOne(passcount):#This function checks if the passenger count 1 or more\n",
    "    if passcount==1:\n",
    "        return int(1)\n",
    "    elif passcount>1:\n",
    "        return int (2)\n",
    "df_c[\"isOne\"]=df_c[\"passenger_count\"].apply(isOne)#isOne function is applied to Passenger Count column and i created another column for the output\n",
    "                                                    #for the ease of operation"
   ]
  },
  {
   "cell_type": "code",
   "execution_count": 75,
   "metadata": {},
   "outputs": [
    {
     "data": {
      "text/plain": [
       "[Text(0, 0, ' 1 Passenger'), Text(0, 0, 'More than 1 passenger')]"
      ]
     },
     "execution_count": 75,
     "metadata": {},
     "output_type": "execute_result"
    },
    {
     "data": {
      "image/png": "[encoded data removed]",
      "text/plain": [
       "<Figure size 432x288 with 1 Axes>"
      ]
     },
     "metadata": {
      "needs_background": "light"
     },
     "output_type": "display_data"
    }
   ],
   "source": [
    "passengercount=df_c.groupby(\"isOne\")\n",
    "passcntbydistance=passengercount[\"distance\"].mean()\n",
    "chart5=passcntbydistance.plot(kind=\"barh\")\n",
    "chart5.set_ylabel('Number of Passengers')\n",
    "chart5.set_xlabel('Average distances in km')\n",
    "chart5.set_yticklabels( (' 1 Passenger', 'More than 1 passenger') )"
   ]
  },
  {
   "cell_type": "markdown",
   "metadata": {},
   "source": [
    "We can observe from the chart above there is difference between distances this gives us a huge hint to reject our Null hypothesis(\"NO EFFECT statement\"), but to be sure we need to apply T-TEST."
   ]
  },
  {
   "cell_type": "markdown",
   "metadata": {},
   "source": [
    "Applying the t-test to commentate with confidence on null hypothesis"
   ]
  },
  {
   "cell_type": "code",
   "execution_count": 76,
   "metadata": {},
   "outputs": [
    {
     "data": {
      "text/plain": [
       "Ttest_indResult(statistic=-4.956248105611437, pvalue=7.196658294108276e-07)"
      ]
     },
     "execution_count": 76,
     "metadata": {},
     "output_type": "execute_result"
    }
   ],
   "source": [
    "#T-TEST\n",
    "tested = \"distance\"\n",
    "passOne = df_c[df_c[\"isOne\"] == 1][tested] #t test applied for passenger count =1 an passenger count = more than one\n",
    "passMore = df_c[df_c[\"isOne\" ]== 2][tested] \n",
    "stats.ttest_ind(passOne, passMore) "
   ]
  },
  {
   "cell_type": "markdown",
   "metadata": {},
   "source": [
    "P-values below 0.05 indicates strong evidence against the null hypothesis,since our pvalue is way below than 0.05 so null hypothesis is rejected in this case.\n",
    "It can't be asserted that the passenger group size has no effect on the distance."
   ]
  },
  {
   "cell_type": "markdown",
   "metadata": {},
   "source": [
    "---------------------------------------------------------"
   ]
  },
  {
   "cell_type": "markdown",
   "metadata": {},
   "source": [
    "Applying the Anova Test to handle all passenger count cases."
   ]
  },
  {
   "cell_type": "code",
   "execution_count": 77,
   "metadata": {},
   "outputs": [
    {
     "data": {
      "image/png": "[encoded data removed]",
      "text/plain": [
       "<Figure size 1008x720 with 1 Axes>"
      ]
     },
     "metadata": {
      "needs_background": "light"
     },
     "output_type": "display_data"
    },
    {
     "data": {
      "text/plain": [
       "F_onewayResult(statistic=7.28309630510169, pvalue=7.86179334693054e-07)"
      ]
     },
     "execution_count": 77,
     "metadata": {},
     "output_type": "execute_result"
    }
   ],
   "source": [
    "tobeTested = \"distance\" \n",
    "\n",
    "pass1 = df_c[df_c[\"passenger_count\"] == 1][tobeTested] \n",
    "pass2 = df_c[df_c[\"passenger_count\"]  == 2][tobeTested] \n",
    "pass3 = df_c[df_c[\"passenger_count\"]  == 3][tobeTested]                                                     \n",
    "pass4 = df_c[df_c[\"passenger_count\"]  == 4][tobeTested] \n",
    "pass5 = df_c[df_c[\"passenger_count\"]  == 5][tobeTested] \n",
    "pass6 = df_c[df_c[\"passenger_count\"] == 6][tobeTested] \n",
    "fig, ax = plt.subplots(1,1, figsize=(14,10))\n",
    "\n",
    "sns.kdeplot(pass1,  label=\"1\", ax=ax)\n",
    "sns.kdeplot(pass2, label=\"2\", ax=ax)\n",
    "sns.kdeplot(pass3, label=\"3\", ax=ax)\n",
    "sns.kdeplot(pass4, label=\"4\", ax=ax)\n",
    "sns.kdeplot(pass5, label=\"5\", ax=ax)\n",
    "sns.kdeplot(pass6, label=\"6\", ax=ax)\n",
    "plt.title(\"Passenger Count-Distance Distribution.\")\n",
    "\n",
    "plt.show()\n",
    "stats.f_oneway(pass1, pass2, pass3, pass4, pass5,pass6) "
   ]
  },
  {
   "cell_type": "markdown",
   "metadata": {},
   "source": [
    "Our p-value result from anova test for 7 days differently support the t-test done before. Again we reject our Null Hypothesis since the p-value is below than 0.05. \n",
    "After all these we can confidently say that null hypothesis rejected."
   ]
  },
  {
   "cell_type": "markdown",
   "metadata": {},
   "source": [
    "---------------------------------------------------------"
   ]
  },
  {
   "cell_type": "markdown",
   "metadata": {},
   "source": [
    "# Null Hypothesis : The day of the week has no effect on the distance"
   ]
  },
  {
   "cell_type": "markdown",
   "metadata": {},
   "source": [
    "*********************************************************************"
   ]
  },
  {
   "cell_type": "markdown",
   "metadata": {},
   "source": [
    "First, it is discussed the relationship between average distance and weekday/weekends."
   ]
  },
  {
   "cell_type": "code",
   "execution_count": 78,
   "metadata": {
    "scrolled": true
   },
   "outputs": [],
   "source": [
    "\n",
    "df_c[\"pickup_datetime\"]=pd.to_datetime(df_c[\"pickup_datetime\"])\n",
    "df_c[\"day_name\"]=df_c[\"pickup_datetime\"].dt.weekday_name# Extracting the names of the by using datetime class\n",
    "dayname=df_c[\"day_name\"]\n",
    "\n",
    "\n"
   ]
  },
  {
   "cell_type": "markdown",
   "metadata": {},
   "source": [
    "Splitting day names as week day and weekend."
   ]
  },
  {
   "cell_type": "code",
   "execution_count": 79,
   "metadata": {},
   "outputs": [],
   "source": [
    "def isWeekend(day):\n",
    "    if day==(\"Sunday\"):\n",
    "        return str(\"Weekend\")\n",
    "    elif day==(\"Saturday\"):\n",
    "        return str(\"Weekend\")\n",
    "    else :\n",
    "        return str(\"Week Day\")\n",
    "                   \n",
    "df_c[\"weekend_weekday\"]=df_c[\"day_name\"].apply(isWeekend)#applying function to the returns weekday or weekend"
   ]
  },
  {
   "cell_type": "markdown",
   "metadata": {},
   "source": [
    "week=df_c.groupby(\"weekend_weekday\")\n",
    "weekbydist=week.mean()[\"distance\"]\n",
    "weekbydist.plot(kind=\"barh\")\n",
    "chart.set_xlabel('Average distances in km')"
   ]
  },
  {
   "cell_type": "code",
   "execution_count": 80,
   "metadata": {
    "scrolled": false
   },
   "outputs": [
    {
     "data": {
      "text/plain": [
       "Text(0, 0.5, 'Average distances in km')"
      ]
     },
     "execution_count": 80,
     "metadata": {},
     "output_type": "execute_result"
    },
    {
     "data": {
      "image/png": "[encoded data removed]",
      "text/plain": [
       "<Figure size 432x288 with 1 Axes>"
      ]
     },
     "metadata": {
      "needs_background": "light"
     },
     "output_type": "display_data"
    }
   ],
   "source": [
    "week=df_c.groupby(\"weekend_weekday\")\n",
    "weekbydist=week.mean()[\"distance\"]# average distance by weekday and weekend\n",
    "weekbydistdf = weekbydist.to_frame().reset_index()#transforming the serie to a dataframe fo the ease of opereation\n",
    "chart8=weekbydist.plot(kind=\"bar\")#plotting\n",
    "chart8.set_xlabel(' ')\n",
    "chart8.set_ylabel('Average distances in km')"
   ]
  },
  {
   "cell_type": "markdown",
   "metadata": {},
   "source": [
    "We can observe that on weekends average distance is greater than on week days. To analyse it deeper it will be checked day by day. "
   ]
  },
  {
   "cell_type": "code",
   "execution_count": 82,
   "metadata": {
    "scrolled": true
   },
   "outputs": [
    {
     "data": {
      "text/plain": [
       "Text(0, 0.5, 'Day of the week')"
      ]
     },
     "execution_count": 82,
     "metadata": {},
     "output_type": "execute_result"
    },
    {
     "data": {
      "image/png": "[encoded data removed]",
      "text/plain": [
       "<Figure size 432x288 with 1 Axes>"
      ]
     },
     "metadata": {
      "needs_background": "light"
     },
     "output_type": "display_data"
    }
   ],
   "source": [
    "dayn=df_c.groupby(\"day_name\")#grouping the same tags as one\n",
    "\n",
    "daymean=dayn.mean()[\"distance\"]#getting average distances by day\n",
    "chart7=daymean.plot(kind=\"barh\")\n",
    "chart7.set_xlabel('Average distance in km')\n",
    "chart7.set_ylabel('Day of the week')"
   ]
  },
  {
   "cell_type": "markdown",
   "metadata": {},
   "source": [
    "We can see that there is a peak on Sunday, and it gives us a hint about our Null Hypothesis but we need to apply t-test to be sure."
   ]
  },
  {
   "cell_type": "code",
   "execution_count": 55,
   "metadata": {
    "scrolled": true
   },
   "outputs": [
    {
     "data": {
      "text/plain": [
       "Ttest_indResult(statistic=5.592069261035184, pvalue=2.2487318844870628e-08)"
      ]
     },
     "execution_count": 55,
     "metadata": {},
     "output_type": "execute_result"
    }
   ],
   "source": [
    "#T-TEST\n",
    "tested2 = \"distance\"\n",
    "\n",
    "week_end = df_c[df_c[\"weekend_weekday\"] == \"Weekend\"][tested2] \n",
    "week_day = df_c[df_c[\"weekend_weekday\" ]== \"Week Day\"][tested2] \n",
    "stats.ttest_ind(week_end, week_day) \n"
   ]
  },
  {
   "cell_type": "markdown",
   "metadata": {},
   "source": [
    "Again our p-value is way below than 0.05 so we can reject our null hypothesis. So we can't say that the day of the week has no effect on distance."
   ]
  },
  {
   "cell_type": "markdown",
   "metadata": {},
   "source": [
    "# AS A CONCLUSION;"
   ]
  },
  {
   "cell_type": "markdown",
   "metadata": {},
   "source": [
    "**********************************************************"
   ]
  },
  {
   "cell_type": "markdown",
   "metadata": {},
   "source": [
    "AFTER THE SUITABLE TESTS APPLIED, RESULTS ARE AS FOLLOWS;"
   ]
  },
  {
   "cell_type": "markdown",
   "metadata": {},
   "source": [
    "************************************************"
   ]
  },
  {
   "cell_type": "markdown",
   "metadata": {},
   "source": [
    "NULL HYPOTHESIS 1 = Passenger group size has no effect on the distance."
   ]
  },
  {
   "cell_type": "markdown",
   "metadata": {},
   "source": [
    "REJECTED. "
   ]
  },
  {
   "cell_type": "markdown",
   "metadata": {},
   "source": [
    "***************************************"
   ]
  },
  {
   "cell_type": "markdown",
   "metadata": {},
   "source": [
    "NULL HYPOTHESIS 2 : The day of the week has no effect on the distance."
   ]
  },
  {
   "cell_type": "markdown",
   "metadata": {},
   "source": [
    "REJECTED."
   ]
  }
 ],
 "metadata": {
  "kernelspec": {
   "display_name": "Python 3",
   "language": "python",
   "name": "python3"
  },
  "language_info": {
   "codemirror_mode": {
    "name": "ipython",
    "version": 3
   },
   "file_extension": ".py",
   "mimetype": "text/x-python",
   "name": "python",
   "nbconvert_exporter": "python",
   "pygments_lexer": "ipython3",
   "version": "3.7.1"
  }
 },
 "nbformat": 4,
 "nbformat_minor": 2
}
